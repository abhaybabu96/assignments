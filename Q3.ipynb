{
 "cells": [
  {
   "cell_type": "code",
   "execution_count": 1,
   "metadata": {},
   "outputs": [],
   "source": [
    "# What is abc module in python? Why is it used?"
   ]
  },
  {
   "cell_type": "code",
   "execution_count": 2,
   "metadata": {},
   "outputs": [],
   "source": [
    "# The abc module in Python stands for \"Abstract Base Classes.\" It provides infrastructure for defining abstract base classes (ABCs). ABCs are classes that define a common interface for a set of subclasses. They are used to define abstract methods and enforce a specific structure on subclasses.\n",
    "\n",
    "# The abc module is used to create abstract base classes by utilizing the ABC metaclass or the abstractmethod decorator. Here are a few use cases and benefits of using the abc module:\n",
    "\n",
    "# Defining interfaces: Abstract base classes allow you to define a common interface that multiple subclasses must adhere to. By defining abstract methods in the ABC, you can ensure that all subclasses implement those methods.\n",
    "\n",
    "# Enforcing structure: ABCs can define certain methods or properties that subclasses must implement. This helps in enforcing a specific structure or behavior across different implementations.\n",
    "\n",
    "# Polymorphism: Abstract base classes enable polymorphism by allowing different objects to be treated uniformly based on their common interface defined by the ABC.\n",
    "\n",
    "# Type checking: Abstract base classes can be used for type checking to ensure that objects passed to a function or method match the required interface defined by the ABC. This helps catch errors early during development.\n",
    "\n",
    "# Documentation and code readability: By using ABCs, you can provide clear documentation and communicate the expected structure and behavior of subclasses to other developers. This enhances code readability and maintainability.\n",
    "\n",
    "# To use the abc module, you typically define a class that inherits from ABC and use the @abstractmethod decorator to mark certain methods as abstract. Subclasses must implement these abstract methods to be considered valid."
   ]
  },
  {
   "cell_type": "code",
   "execution_count": 3,
   "metadata": {},
   "outputs": [
    {
     "name": "stdout",
     "output_type": "stream",
     "text": [
      "20\n",
      "28.26\n"
     ]
    }
   ],
   "source": [
    "from abc import ABC, abstractmethod\n",
    "\n",
    "class Shape(ABC):\n",
    "    @abstractmethod\n",
    "    def area(self):\n",
    "        pass\n",
    "\n",
    "class Rectangle(Shape):\n",
    "    def __init__(self, width, height):\n",
    "        self.width = width\n",
    "        self.height = height\n",
    "\n",
    "    def area(self):\n",
    "        return self.width * self.height\n",
    "\n",
    "class Circle(Shape):\n",
    "    def __init__(self, radius):\n",
    "        self.radius = radius\n",
    "\n",
    "    def area(self):\n",
    "        return 3.14 * self.radius ** 2\n",
    "\n",
    "r = Rectangle(4, 5)\n",
    "print(r.area())  # Output: 20\n",
    "\n",
    "c = Circle(3)\n",
    "print(c.area())  # Output: 28.26\n"
   ]
  },
  {
   "cell_type": "code",
   "execution_count": null,
   "metadata": {},
   "outputs": [],
   "source": []
  }
 ],
 "metadata": {
  "kernelspec": {
   "display_name": "Python 3",
   "language": "python",
   "name": "python3"
  },
  "language_info": {
   "codemirror_mode": {
    "name": "ipython",
    "version": 3
   },
   "file_extension": ".py",
   "mimetype": "text/x-python",
   "name": "python",
   "nbconvert_exporter": "python",
   "pygments_lexer": "ipython3",
   "version": "3.11.3"
  },
  "orig_nbformat": 4
 },
 "nbformat": 4,
 "nbformat_minor": 2
}
