{
 "cells": [
  {
   "cell_type": "code",
   "execution_count": 1,
   "metadata": {},
   "outputs": [],
   "source": [
    "# Q1, Create a vehicle class with an init method having instance variables as name_of_vehicle, max_speed\n",
    "# and average_of_vehicle."
   ]
  },
  {
   "cell_type": "code",
   "execution_count": 41,
   "metadata": {},
   "outputs": [
    {
     "name": "stdout",
     "output_type": "stream",
     "text": [
      "Hf Deluxe 120 65\n"
     ]
    }
   ],
   "source": [
    "class vehicle() :\n",
    "    def __init__(self, name_of_vehicle , max_speed,average_of_vehicle) :\n",
    "\n",
    "        self.vechicle_name = name_of_vehicle\n",
    "        self.maxspeed = max_speed\n",
    "        self.averageof_vechicle = average_of_vehicle\n",
    "    \n",
    "specs = vehicle(\"Hf Deluxe\",120,65)\n",
    "make_list = print(specs.vechicle_name,specs.maxspeed,specs.averageof_vechicle)"
   ]
  },
  {
   "cell_type": "code",
   "execution_count": null,
   "metadata": {},
   "outputs": [],
   "source": []
  }
 ],
 "metadata": {
  "kernelspec": {
   "display_name": "Python 3",
   "language": "python",
   "name": "python3"
  },
  "language_info": {
   "codemirror_mode": {
    "name": "ipython",
    "version": 3
   },
   "file_extension": ".py",
   "mimetype": "text/x-python",
   "name": "python",
   "nbconvert_exporter": "python",
   "pygments_lexer": "ipython3",
   "version": "3.11.3"
  },
  "orig_nbformat": 4
 },
 "nbformat": 4,
 "nbformat_minor": 2
}
