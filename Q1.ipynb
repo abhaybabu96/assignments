{
 "cells": [
  {
   "cell_type": "code",
   "execution_count": 1,
   "metadata": {},
   "outputs": [],
   "source": [
    "# What is Abstraction in OOps? Explain with an example."
   ]
  },
  {
   "cell_type": "code",
   "execution_count": null,
   "metadata": {},
   "outputs": [],
   "source": [
    "# Abstraction \n",
    "\n",
    "# Abstraction involves the process of simplifying complex systems by representing only the essential aspects and hiding unnecessary details.\n",
    "# In OOP, abstraction allows for the creation of abstract classes and interfaces that define a common interface for a set of related classes.\n",
    "# Abstract classes cannot be instantiated and serve as blueprints for derived classes, while interfaces define a contract for classes \n",
    "# to implement specific methods. Abstraction helps in managing complexity, improving code maintainability, and promoting code reuse."
   ]
  }
 ],
 "metadata": {
  "kernelspec": {
   "display_name": "Python 3",
   "language": "python",
   "name": "python3"
  },
  "language_info": {
   "codemirror_mode": {
    "name": "ipython",
    "version": 3
   },
   "file_extension": ".py",
   "mimetype": "text/x-python",
   "name": "python",
   "nbconvert_exporter": "python",
   "pygments_lexer": "ipython3",
   "version": "3.11.3"
  },
  "orig_nbformat": 4
 },
 "nbformat": 4,
 "nbformat_minor": 2
}
