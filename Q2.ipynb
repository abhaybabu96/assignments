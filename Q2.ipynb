{
 "cells": [
  {
   "cell_type": "code",
   "execution_count": 1,
   "metadata": {},
   "outputs": [],
   "source": [
    "# Differentiate between Abstraction and Encapsulation. Explain with an example."
   ]
  },
  {
   "cell_type": "code",
   "execution_count": 2,
   "metadata": {},
   "outputs": [],
   "source": [
    "# Abstraction\n",
    "# Abstraction in OOP involves simplifying complex systems by representing only the essential aspects and hiding unnecessary details.\n",
    "# It focuses on the behavior and functionality of objects rather than their implementation. Abstraction allows developers to create \n",
    "# abstract classes and interfaces that define a common interface for a set of related classes, promoting code reuse, modularity, and \n",
    "# encapsulation.\n",
    "\n",
    "# An example of abstraction is a Shape class with different subclasses such as Rectangle, Circle, and Triangle.\n",
    "# The Shape class can define abstract methods like area() and perimeter() without specifying their implementation. \n",
    "# Each subclass then provides \n",
    "# its own implementation for these abstract methods. The abstract Shape class provides a\n",
    "# common interface that guarantees every subclass will have the required behavior, but the actual implementation details are \n",
    "# hidden within each subclass."
   ]
  },
  {
   "cell_type": "code",
   "execution_count": null,
   "metadata": {},
   "outputs": [],
   "source": []
  }
 ],
 "metadata": {
  "kernelspec": {
   "display_name": "Python 3",
   "language": "python",
   "name": "python3"
  },
  "language_info": {
   "codemirror_mode": {
    "name": "ipython",
    "version": 3
   },
   "file_extension": ".py",
   "mimetype": "text/x-python",
   "name": "python",
   "nbconvert_exporter": "python",
   "pygments_lexer": "ipython3",
   "version": "3.11.3"
  },
  "orig_nbformat": 4
 },
 "nbformat": 4,
 "nbformat_minor": 2
}
