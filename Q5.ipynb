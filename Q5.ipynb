{
 "cells": [
  {
   "cell_type": "code",
   "execution_count": 1,
   "metadata": {},
   "outputs": [],
   "source": [
    "# Can we create an instance of an abstract class? Explain your answer."
   ]
  },
  {
   "cell_type": "code",
   "execution_count": 1,
   "metadata": {},
   "outputs": [],
   "source": [
    "# No, we cannot create an instance of an abstract class directly in Python. An abstract class is designed to be a blueprint for other \n",
    "# classes and is meant to be subclassed. It cannot be instantiated on its own because it may contain abstract methods that lack implementation.\n",
    "\n",
    "# An abstract class in Python is created using the abc module, and it typically includes one or more abstract methods. Abstract \n",
    "\n",
    "# methods are declared using the @abstractmethod decorator and have no implementation within the abstract class itself. They serve\n",
    "#  as placeholders for methods that must be implemented in the subclasses"
   ]
  },
  {
   "cell_type": "code",
   "execution_count": null,
   "metadata": {},
   "outputs": [],
   "source": []
  }
 ],
 "metadata": {
  "kernelspec": {
   "display_name": "Python 3",
   "language": "python",
   "name": "python3"
  },
  "language_info": {
   "codemirror_mode": {
    "name": "ipython",
    "version": 3
   },
   "file_extension": ".py",
   "mimetype": "text/x-python",
   "name": "python",
   "nbconvert_exporter": "python",
   "pygments_lexer": "ipython3",
   "version": "3.11.3"
  },
  "orig_nbformat": 4
 },
 "nbformat": 4,
 "nbformat_minor": 2
}
