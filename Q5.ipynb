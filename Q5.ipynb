{
 "cells": [
  {
   "cell_type": "code",
   "execution_count": 1,
   "metadata": {},
   "outputs": [],
   "source": [
    "# Q5.What is method overriding in python? Write a python code to demonstrate method overriding."
   ]
  },
  {
   "cell_type": "code",
   "execution_count": 2,
   "metadata": {},
   "outputs": [],
   "source": [
    "# Method overriding in Python is a feature that allows a subclass to provide a different implementation of a method that is \n",
    "# already defined in its superclass. When a method in the subclass has the same name, same parameters, and the same return type as a\n",
    "# method in the superclass, it is said to override the method in the superclass."
   ]
  },
  {
   "cell_type": "code",
   "execution_count": 5,
   "metadata": {},
   "outputs": [
    {
     "name": "stdout",
     "output_type": "stream",
     "text": [
      "Animal Make sound\n"
     ]
    }
   ],
   "source": [
    "class Animal() :\n",
    "    def sound(self) :\n",
    "        print(\"Animal Make sound\")\n",
    "\n",
    "class cat(Animal) :\n",
    "    def sound(self):\n",
    "        return(\"Meaww Meaww\")\n",
    "    \n",
    "class dog(Animal) :\n",
    "    def sound(self):\n",
    "        return(\"Fowww.. Bhoww...\")\n",
    "    \n",
    "\n",
    "animal = Animal()\n",
    "animal.sound()"
   ]
  },
  {
   "cell_type": "code",
   "execution_count": 6,
   "metadata": {},
   "outputs": [
    {
     "data": {
      "text/plain": [
       "'Meaww Meaww'"
      ]
     },
     "execution_count": 6,
     "metadata": {},
     "output_type": "execute_result"
    }
   ],
   "source": [
    "cat = cat()\n",
    "cat.sound()"
   ]
  },
  {
   "cell_type": "code",
   "execution_count": 11,
   "metadata": {},
   "outputs": [
    {
     "ename": "TypeError",
     "evalue": "'dog' object is not callable",
     "output_type": "error",
     "traceback": [
      "\u001b[1;31m---------------------------------------------------------------------------\u001b[0m",
      "\u001b[1;31mTypeError\u001b[0m                                 Traceback (most recent call last)",
      "Cell \u001b[1;32mIn[11], line 1\u001b[0m\n\u001b[1;32m----> 1\u001b[0m dogi \u001b[39m=\u001b[39m dog()\n\u001b[0;32m      2\u001b[0m dogi\u001b[39m.\u001b[39msound()\n",
      "\u001b[1;31mTypeError\u001b[0m: 'dog' object is not callable"
     ]
    }
   ],
   "source": [
    "dogi = dog()\n",
    "dogi.sound()"
   ]
  },
  {
   "cell_type": "code",
   "execution_count": null,
   "metadata": {},
   "outputs": [],
   "source": []
  }
 ],
 "metadata": {
  "kernelspec": {
   "display_name": "Python 3",
   "language": "python",
   "name": "python3"
  },
  "language_info": {
   "codemirror_mode": {
    "name": "ipython",
    "version": 3
   },
   "file_extension": ".py",
   "mimetype": "text/x-python",
   "name": "python",
   "nbconvert_exporter": "python",
   "pygments_lexer": "ipython3",
   "version": "3.11.3"
  },
  "orig_nbformat": 4
 },
 "nbformat": 4,
 "nbformat_minor": 2
}
