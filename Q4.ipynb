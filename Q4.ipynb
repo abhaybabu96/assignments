{
 "cells": [
  {
   "cell_type": "code",
   "execution_count": 1,
   "metadata": {},
   "outputs": [],
   "source": [
    "# Q4. What are getter and setter in python? Create a class and create a getter and a setter method in this\n",
    "# class."
   ]
  },
  {
   "cell_type": "code",
   "execution_count": 44,
   "metadata": {},
   "outputs": [],
   "source": [
    "class pwskills:\n",
    "    def __init__(self, cname, cprice):\n",
    "        self.__cname = cname\n",
    "        self.cprice = cprice\n",
    "\n",
    "    @property\n",
    "    def course_new_name(self):\n",
    "        return self.__cname\n",
    "    \n",
    "\n",
    "    @course_new_name.setter\n",
    "    def new_name(self,cname) :\n",
    "        self.__cname = cname\n",
    "\n",
    "   \n",
    "    @course_new_name.deleter\n",
    "    def del_new_name(self) :\n",
    "        del self.__cname"
   ]
  },
  {
   "cell_type": "code",
   "execution_count": 48,
   "metadata": {},
   "outputs": [
    {
     "name": "stdout",
     "output_type": "stream",
     "text": [
      "Full-stack-development\n"
     ]
    }
   ],
   "source": [
    "\n",
    "newobj = pwskills(\"Full-stack-development\", 3200)\n",
    "print(newobj.course_new_name)\n",
    "\n",
    "newobj.new_name = \"Asus Learning\"\n",
    "\n",
    "newobj.course_new_name\n",
    "del newobj.del_new_name"
   ]
  },
  {
   "cell_type": "code",
   "execution_count": null,
   "metadata": {},
   "outputs": [],
   "source": []
  }
 ],
 "metadata": {
  "kernelspec": {
   "display_name": "Python 3",
   "language": "python",
   "name": "python3"
  },
  "language_info": {
   "codemirror_mode": {
    "name": "ipython",
    "version": 3
   },
   "file_extension": ".py",
   "mimetype": "text/x-python",
   "name": "python",
   "nbconvert_exporter": "python",
   "pygments_lexer": "ipython3",
   "version": "3.11.3"
  },
  "orig_nbformat": 4
 },
 "nbformat": 4,
 "nbformat_minor": 2
}
