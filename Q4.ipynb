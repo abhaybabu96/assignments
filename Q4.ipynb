{
 "cells": [
  {
   "cell_type": "code",
   "execution_count": 1,
   "metadata": {},
   "outputs": [],
   "source": [
    "# How can we achieve data abstraction?"
   ]
  },
  {
   "cell_type": "code",
   "execution_count": 1,
   "metadata": {},
   "outputs": [],
   "source": [
    "# In Python, data abstraction can be achieved using classes and objects. Here are the steps to achieve data abstraction:\n",
    "\n",
    "# Define a class: Create a class that represents the abstract concept or entity you want to abstract. This class should encapsulate the data and behavior related to that concept.\n",
    "\n",
    "# Encapsulation: Encapsulate the data within the class by defining attributes (variables) and methods (functions) that operate on those attributes. The class acts as a container for the data and associated functionality.\n",
    "\n",
    "# Access modifiers: Use access modifiers like public, private, and protected to control the visibility and accessibility of class members (attributes and methods). This helps in hiding the implementation details and providing a clear interface to interact with the class.\n",
    "\n",
    "# Public: Public members are accessible from outside the class.\n",
    "# Private: Private members are accessible only within the class and not from outside.\n",
    "# Protected: Protected members are accessible within the class and its subclasses.\n",
    "# In Python, there are naming conventions for private and protected members. By convention, a single underscore (_) prefix indicates a protected member, and a double underscore (__) prefix indicates a private member.\n",
    "\n",
    "# Provide public methods: Define public methods (also known as interface methods) that allow users to interact with the class. These methods provide a simplified interface to access and manipulate the data encapsulated within the class. The public methods should hide the internal details and provide a higher-level abstraction.\n",
    "\n",
    "# Public methods can perform various operations, such as setting and retrieving attribute values, performing computations, or returning desired results based on the internal state of the class.\n",
    "\n",
    "# By following these steps, you can achieve data abstraction in Python. Users of your class can interact with the public methods and access the desired functionality without worrying about the underlying implementation details. This promotes modular design, code reusability, and enhances the overall maintainability of your code."
   ]
  },
  {
   "cell_type": "code",
   "execution_count": 2,
   "metadata": {},
   "outputs": [
    {
     "name": "stdout",
     "output_type": "stream",
     "text": [
      "1300\n"
     ]
    }
   ],
   "source": [
    "class BankAccount:\n",
    "    def __init__(self, account_number, balance):\n",
    "        self._account_number = account_number\n",
    "        self._balance = balance\n",
    "\n",
    "    def deposit(self, amount):\n",
    "        self._balance += amount\n",
    "\n",
    "    def withdraw(self, amount):\n",
    "        if amount <= self._balance:\n",
    "            self._balance -= amount\n",
    "        else:\n",
    "            print(\"Insufficient balance.\")\n",
    "\n",
    "    def get_balance(self):\n",
    "        return self._balance\n",
    "\n",
    "\n",
    "account = BankAccount(\"1234567890\", 1000)\n",
    "account.deposit(500)\n",
    "account.withdraw(200)\n",
    "print(account.get_balance())  # Output: 1300\n"
   ]
  },
  {
   "cell_type": "code",
   "execution_count": null,
   "metadata": {},
   "outputs": [],
   "source": []
  }
 ],
 "metadata": {
  "kernelspec": {
   "display_name": "Python 3",
   "language": "python",
   "name": "python3"
  },
  "language_info": {
   "codemirror_mode": {
    "name": "ipython",
    "version": 3
   },
   "file_extension": ".py",
   "mimetype": "text/x-python",
   "name": "python",
   "nbconvert_exporter": "python",
   "pygments_lexer": "ipython3",
   "version": "3.11.3"
  },
  "orig_nbformat": 4
 },
 "nbformat": 4,
 "nbformat_minor": 2
}
